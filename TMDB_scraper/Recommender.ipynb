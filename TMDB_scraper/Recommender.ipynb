{
 "cells": [
  {
   "cell_type": "code",
   "execution_count": 51,
   "id": "95298d32-9453-4984-b81f-6d5a54de7aae",
   "metadata": {},
   "outputs": [],
   "source": [
    "import numpy as np\n",
    "import pandas as pd\n",
    "import sqlite3\n",
    "import seaborn as sns\n",
    "import matplotlib.pylab as plt"
   ]
  },
  {
   "cell_type": "code",
   "execution_count": 29,
   "id": "a75db39f-fcd5-47f8-a450-53493584a582",
   "metadata": {},
   "outputs": [
    {
     "data": {
      "text/html": [
       "<div>\n",
       "<style scoped>\n",
       "    .dataframe tbody tr th:only-of-type {\n",
       "        vertical-align: middle;\n",
       "    }\n",
       "\n",
       "    .dataframe tbody tr th {\n",
       "        vertical-align: top;\n",
       "    }\n",
       "\n",
       "    .dataframe thead th {\n",
       "        text-align: right;\n",
       "    }\n",
       "</style>\n",
       "<table border=\"1\" class=\"dataframe\">\n",
       "  <thead>\n",
       "    <tr style=\"text-align: right;\">\n",
       "      <th></th>\n",
       "      <th>actor</th>\n",
       "      <th>movie_or_TV_name</th>\n",
       "    </tr>\n",
       "  </thead>\n",
       "  <tbody>\n",
       "    <tr>\n",
       "      <th>0</th>\n",
       "      <td>Chris Pattinson</td>\n",
       "      <td>The Matrix</td>\n",
       "    </tr>\n",
       "    <tr>\n",
       "      <th>1</th>\n",
       "      <td>Bernard Ledger</td>\n",
       "      <td>The 7th Hunt</td>\n",
       "    </tr>\n",
       "    <tr>\n",
       "      <th>2</th>\n",
       "      <td>Bernard Ledger</td>\n",
       "      <td>No Escape</td>\n",
       "    </tr>\n",
       "    <tr>\n",
       "      <th>3</th>\n",
       "      <td>Bernard Ledger</td>\n",
       "      <td>Frauds</td>\n",
       "    </tr>\n",
       "    <tr>\n",
       "      <th>4</th>\n",
       "      <td>Bernard Ledger</td>\n",
       "      <td>Sweetie</td>\n",
       "    </tr>\n",
       "    <tr>\n",
       "      <th>...</th>\n",
       "      <td>...</td>\n",
       "      <td>...</td>\n",
       "    </tr>\n",
       "    <tr>\n",
       "      <th>1101</th>\n",
       "      <td>Marc Aden Gray</td>\n",
       "      <td>Water Rats</td>\n",
       "    </tr>\n",
       "    <tr>\n",
       "      <th>1102</th>\n",
       "      <td>Marc Aden Gray</td>\n",
       "      <td>Blue Heelers</td>\n",
       "    </tr>\n",
       "    <tr>\n",
       "      <th>1103</th>\n",
       "      <td>Marc Aden Gray</td>\n",
       "      <td>Flirting</td>\n",
       "    </tr>\n",
       "    <tr>\n",
       "      <th>1104</th>\n",
       "      <td>Marc Aden Gray</td>\n",
       "      <td>High Tide</td>\n",
       "    </tr>\n",
       "    <tr>\n",
       "      <th>1105</th>\n",
       "      <td>Marc Aden Gray</td>\n",
       "      <td>Fortress</td>\n",
       "    </tr>\n",
       "  </tbody>\n",
       "</table>\n",
       "<p>1106 rows × 2 columns</p>\n",
       "</div>"
      ],
      "text/plain": [
       "                actor movie_or_TV_name\n",
       "0     Chris Pattinson       The Matrix\n",
       "1      Bernard Ledger     The 7th Hunt\n",
       "2      Bernard Ledger        No Escape\n",
       "3      Bernard Ledger           Frauds\n",
       "4      Bernard Ledger          Sweetie\n",
       "...               ...              ...\n",
       "1101   Marc Aden Gray       Water Rats\n",
       "1102   Marc Aden Gray     Blue Heelers\n",
       "1103   Marc Aden Gray         Flirting\n",
       "1104   Marc Aden Gray        High Tide\n",
       "1105   Marc Aden Gray         Fortress\n",
       "\n",
       "[1106 rows x 2 columns]"
      ]
     },
     "execution_count": 29,
     "metadata": {},
     "output_type": "execute_result"
    }
   ],
   "source": [
    "df = pd.read_csv(\"results.csv\")\n",
    "df"
   ]
  },
  {
   "cell_type": "code",
   "execution_count": 30,
   "id": "0fc4167b-0835-4d17-9adb-f8b7f7723a04",
   "metadata": {},
   "outputs": [
    {
     "data": {
      "text/plain": [
       "array(['Chris Pattinson', 'Bernard Ledger', 'Michael Butcher',\n",
       "       'Lawrence Woodward', 'Luke Quinton', 'Steve Dodd',\n",
       "       'Harry Lawrence', 'Fiona Johnson', 'Jeremy Ball', \"David O'Connor\",\n",
       "       'Bill Young', 'Natalie Tjen', 'Adryn White', 'Janaya Pender',\n",
       "       'Eleanor Witt', 'Rowan Witt', 'Tamara Brown', 'Rana Morrison',\n",
       "       'Nigel Harbach', 'Robert Simper', 'Deni Gordon', 'David Aston',\n",
       "       'Julian Arahanga', 'Ada Nicodemou', 'Robert Taylor',\n",
       "       'Paul Goddard', 'Belinda McClory', 'Gloria Foster', 'Matt Doran',\n",
       "       'Anthony Ray Parker', 'Marcus Chong', 'Joe Pantoliano',\n",
       "       'Hugo Weaving', 'Carrie-Anne Moss', 'Laurence Fishburne',\n",
       "       'Keanu Reeves', 'Marc Aden Gray'], dtype=object)"
      ]
     },
     "execution_count": 30,
     "metadata": {},
     "output_type": "execute_result"
    }
   ],
   "source": [
    "df[\"actor\"].unique()"
   ]
  },
  {
   "cell_type": "code",
   "execution_count": 31,
   "id": "69442626-ef66-4ecd-b382-223b8a87c8c6",
   "metadata": {},
   "outputs": [],
   "source": [
    "conn = sqlite3.connect(\"act.db\")"
   ]
  },
  {
   "cell_type": "code",
   "execution_count": 32,
   "id": "f756c189-8d24-46f2-99c6-64b8e9622d69",
   "metadata": {},
   "outputs": [
    {
     "ename": "ValueError",
     "evalue": "Table 'act' already exists.",
     "output_type": "error",
     "traceback": [
      "\u001b[1;31m---------------------------------------------------------------------------\u001b[0m",
      "\u001b[1;31mValueError\u001b[0m                                Traceback (most recent call last)",
      "\u001b[1;32m~\\AppData\\Local\\Temp\\ipykernel_55492\\2984214045.py\u001b[0m in \u001b[0;36m<module>\u001b[1;34m\u001b[0m\n\u001b[1;32m----> 1\u001b[1;33m \u001b[0mdf\u001b[0m\u001b[1;33m.\u001b[0m\u001b[0mto_sql\u001b[0m\u001b[1;33m(\u001b[0m\u001b[1;34m\"act\"\u001b[0m\u001b[1;33m,\u001b[0m \u001b[0mconn\u001b[0m\u001b[1;33m,\u001b[0m \u001b[0mindex\u001b[0m\u001b[1;33m=\u001b[0m\u001b[1;32mFalse\u001b[0m\u001b[1;33m)\u001b[0m\u001b[1;33m\u001b[0m\u001b[1;33m\u001b[0m\u001b[0m\n\u001b[0m",
      "\u001b[1;32m~\\anaconda3\\lib\\site-packages\\pandas\\core\\generic.py\u001b[0m in \u001b[0;36mto_sql\u001b[1;34m(self, name, con, schema, if_exists, index, index_label, chunksize, dtype, method)\u001b[0m\n\u001b[0;32m   2949\u001b[0m         \u001b[1;32mfrom\u001b[0m \u001b[0mpandas\u001b[0m\u001b[1;33m.\u001b[0m\u001b[0mio\u001b[0m \u001b[1;32mimport\u001b[0m \u001b[0msql\u001b[0m\u001b[1;33m\u001b[0m\u001b[1;33m\u001b[0m\u001b[0m\n\u001b[0;32m   2950\u001b[0m \u001b[1;33m\u001b[0m\u001b[0m\n\u001b[1;32m-> 2951\u001b[1;33m         return sql.to_sql(\n\u001b[0m\u001b[0;32m   2952\u001b[0m             \u001b[0mself\u001b[0m\u001b[1;33m,\u001b[0m\u001b[1;33m\u001b[0m\u001b[1;33m\u001b[0m\u001b[0m\n\u001b[0;32m   2953\u001b[0m             \u001b[0mname\u001b[0m\u001b[1;33m,\u001b[0m\u001b[1;33m\u001b[0m\u001b[1;33m\u001b[0m\u001b[0m\n",
      "\u001b[1;32m~\\anaconda3\\lib\\site-packages\\pandas\\io\\sql.py\u001b[0m in \u001b[0;36mto_sql\u001b[1;34m(frame, name, con, schema, if_exists, index, index_label, chunksize, dtype, method, engine, **engine_kwargs)\u001b[0m\n\u001b[0;32m    696\u001b[0m         )\n\u001b[0;32m    697\u001b[0m \u001b[1;33m\u001b[0m\u001b[0m\n\u001b[1;32m--> 698\u001b[1;33m     return pandas_sql.to_sql(\n\u001b[0m\u001b[0;32m    699\u001b[0m         \u001b[0mframe\u001b[0m\u001b[1;33m,\u001b[0m\u001b[1;33m\u001b[0m\u001b[1;33m\u001b[0m\u001b[0m\n\u001b[0;32m    700\u001b[0m         \u001b[0mname\u001b[0m\u001b[1;33m,\u001b[0m\u001b[1;33m\u001b[0m\u001b[1;33m\u001b[0m\u001b[0m\n",
      "\u001b[1;32m~\\anaconda3\\lib\\site-packages\\pandas\\io\\sql.py\u001b[0m in \u001b[0;36mto_sql\u001b[1;34m(self, frame, name, if_exists, index, index_label, schema, chunksize, dtype, method, **kwargs)\u001b[0m\n\u001b[0;32m   2190\u001b[0m             \u001b[0mdtype\u001b[0m\u001b[1;33m=\u001b[0m\u001b[0mdtype\u001b[0m\u001b[1;33m,\u001b[0m\u001b[1;33m\u001b[0m\u001b[1;33m\u001b[0m\u001b[0m\n\u001b[0;32m   2191\u001b[0m         )\n\u001b[1;32m-> 2192\u001b[1;33m         \u001b[0mtable\u001b[0m\u001b[1;33m.\u001b[0m\u001b[0mcreate\u001b[0m\u001b[1;33m(\u001b[0m\u001b[1;33m)\u001b[0m\u001b[1;33m\u001b[0m\u001b[1;33m\u001b[0m\u001b[0m\n\u001b[0m\u001b[0;32m   2193\u001b[0m         \u001b[1;32mreturn\u001b[0m \u001b[0mtable\u001b[0m\u001b[1;33m.\u001b[0m\u001b[0minsert\u001b[0m\u001b[1;33m(\u001b[0m\u001b[0mchunksize\u001b[0m\u001b[1;33m,\u001b[0m \u001b[0mmethod\u001b[0m\u001b[1;33m)\u001b[0m\u001b[1;33m\u001b[0m\u001b[1;33m\u001b[0m\u001b[0m\n\u001b[0;32m   2194\u001b[0m \u001b[1;33m\u001b[0m\u001b[0m\n",
      "\u001b[1;32m~\\anaconda3\\lib\\site-packages\\pandas\\io\\sql.py\u001b[0m in \u001b[0;36mcreate\u001b[1;34m(self)\u001b[0m\n\u001b[0;32m    832\u001b[0m         \u001b[1;32mif\u001b[0m \u001b[0mself\u001b[0m\u001b[1;33m.\u001b[0m\u001b[0mexists\u001b[0m\u001b[1;33m(\u001b[0m\u001b[1;33m)\u001b[0m\u001b[1;33m:\u001b[0m\u001b[1;33m\u001b[0m\u001b[1;33m\u001b[0m\u001b[0m\n\u001b[0;32m    833\u001b[0m             \u001b[1;32mif\u001b[0m \u001b[0mself\u001b[0m\u001b[1;33m.\u001b[0m\u001b[0mif_exists\u001b[0m \u001b[1;33m==\u001b[0m \u001b[1;34m\"fail\"\u001b[0m\u001b[1;33m:\u001b[0m\u001b[1;33m\u001b[0m\u001b[1;33m\u001b[0m\u001b[0m\n\u001b[1;32m--> 834\u001b[1;33m                 \u001b[1;32mraise\u001b[0m \u001b[0mValueError\u001b[0m\u001b[1;33m(\u001b[0m\u001b[1;34mf\"Table '{self.name}' already exists.\"\u001b[0m\u001b[1;33m)\u001b[0m\u001b[1;33m\u001b[0m\u001b[1;33m\u001b[0m\u001b[0m\n\u001b[0m\u001b[0;32m    835\u001b[0m             \u001b[1;32melif\u001b[0m \u001b[0mself\u001b[0m\u001b[1;33m.\u001b[0m\u001b[0mif_exists\u001b[0m \u001b[1;33m==\u001b[0m \u001b[1;34m\"replace\"\u001b[0m\u001b[1;33m:\u001b[0m\u001b[1;33m\u001b[0m\u001b[1;33m\u001b[0m\u001b[0m\n\u001b[0;32m    836\u001b[0m                 \u001b[0mself\u001b[0m\u001b[1;33m.\u001b[0m\u001b[0mpd_sql\u001b[0m\u001b[1;33m.\u001b[0m\u001b[0mdrop_table\u001b[0m\u001b[1;33m(\u001b[0m\u001b[0mself\u001b[0m\u001b[1;33m.\u001b[0m\u001b[0mname\u001b[0m\u001b[1;33m,\u001b[0m \u001b[0mself\u001b[0m\u001b[1;33m.\u001b[0m\u001b[0mschema\u001b[0m\u001b[1;33m)\u001b[0m\u001b[1;33m\u001b[0m\u001b[1;33m\u001b[0m\u001b[0m\n",
      "\u001b[1;31mValueError\u001b[0m: Table 'act' already exists."
     ]
    }
   ],
   "source": [
    "df.to_sql(\"act\", conn, index=False)"
   ]
  },
  {
   "cell_type": "code",
   "execution_count": 33,
   "id": "89fe2d8e-c146-4b87-b59e-2038496a2165",
   "metadata": {},
   "outputs": [
    {
     "data": {
      "text/plain": [
       "<sqlite3.Cursor at 0x1ecbb05ab20>"
      ]
     },
     "execution_count": 33,
     "metadata": {},
     "output_type": "execute_result"
    }
   ],
   "source": [
    "cursor = conn.cursor() # get a cursor object from the database connection\n",
    "cursor"
   ]
  },
  {
   "cell_type": "code",
   "execution_count": 34,
   "id": "82e5cb9d-c284-4b2d-859f-fffd52f0b873",
   "metadata": {},
   "outputs": [
    {
     "data": {
      "text/html": [
       "<div>\n",
       "<style scoped>\n",
       "    .dataframe tbody tr th:only-of-type {\n",
       "        vertical-align: middle;\n",
       "    }\n",
       "\n",
       "    .dataframe tbody tr th {\n",
       "        vertical-align: top;\n",
       "    }\n",
       "\n",
       "    .dataframe thead th {\n",
       "        text-align: right;\n",
       "    }\n",
       "</style>\n",
       "<table border=\"1\" class=\"dataframe\">\n",
       "  <thead>\n",
       "    <tr style=\"text-align: right;\">\n",
       "      <th></th>\n",
       "      <th>movie_name</th>\n",
       "      <th>number_of_actors</th>\n",
       "      <th>actors_in_movie</th>\n",
       "    </tr>\n",
       "  </thead>\n",
       "  <tbody>\n",
       "    <tr>\n",
       "      <th>0</th>\n",
       "      <td>The Matrix</td>\n",
       "      <td>32</td>\n",
       "      <td>Paul Goddard, Belinda McClory, Gloria Foster, ...</td>\n",
       "    </tr>\n",
       "    <tr>\n",
       "      <th>1</th>\n",
       "      <td>Police Rescue</td>\n",
       "      <td>7</td>\n",
       "      <td>Robert Simper, Michael Butcher, Lawrence Woodw...</td>\n",
       "    </tr>\n",
       "    <tr>\n",
       "      <th>2</th>\n",
       "      <td>The Matrix Reloaded</td>\n",
       "      <td>6</td>\n",
       "      <td>Gloria Foster, Hugo Weaving, Carrie-Anne Moss,...</td>\n",
       "    </tr>\n",
       "    <tr>\n",
       "      <th>3</th>\n",
       "      <td>The View</td>\n",
       "      <td>5</td>\n",
       "      <td>Joe Pantoliano, Hugo Weaving, Carrie-Anne Moss...</td>\n",
       "    </tr>\n",
       "    <tr>\n",
       "      <th>4</th>\n",
       "      <td>Making 'The Matrix'</td>\n",
       "      <td>5</td>\n",
       "      <td>Joe Pantoliano, Hugo Weaving, Carrie-Anne Moss...</td>\n",
       "    </tr>\n",
       "    <tr>\n",
       "      <th>...</th>\n",
       "      <td>...</td>\n",
       "      <td>...</td>\n",
       "      <td>...</td>\n",
       "    </tr>\n",
       "    <tr>\n",
       "      <th>851</th>\n",
       "      <td>2099: The Soldier Protocol</td>\n",
       "      <td>1</td>\n",
       "      <td>Belinda McClory</td>\n",
       "    </tr>\n",
       "    <tr>\n",
       "      <th>852</th>\n",
       "      <td>19-2</td>\n",
       "      <td>1</td>\n",
       "      <td>Tamara Brown</td>\n",
       "    </tr>\n",
       "    <tr>\n",
       "      <th>853</th>\n",
       "      <td>...So Goes the Nation</td>\n",
       "      <td>1</td>\n",
       "      <td>Joe Pantoliano</td>\n",
       "    </tr>\n",
       "    <tr>\n",
       "      <th>854</th>\n",
       "      <td>...Maybe This Time</td>\n",
       "      <td>1</td>\n",
       "      <td>Hugo Weaving</td>\n",
       "    </tr>\n",
       "    <tr>\n",
       "      <th>855</th>\n",
       "      <td>#FreeRayshawn</td>\n",
       "      <td>1</td>\n",
       "      <td>Laurence Fishburne</td>\n",
       "    </tr>\n",
       "  </tbody>\n",
       "</table>\n",
       "<p>856 rows × 3 columns</p>\n",
       "</div>"
      ],
      "text/plain": [
       "                     movie_name  number_of_actors  \\\n",
       "0                    The Matrix                32   \n",
       "1                 Police Rescue                 7   \n",
       "2           The Matrix Reloaded                 6   \n",
       "3                      The View                 5   \n",
       "4           Making 'The Matrix'                 5   \n",
       "..                          ...               ...   \n",
       "851  2099: The Soldier Protocol                 1   \n",
       "852                        19-2                 1   \n",
       "853       ...So Goes the Nation                 1   \n",
       "854          ...Maybe This Time                 1   \n",
       "855               #FreeRayshawn                 1   \n",
       "\n",
       "                                       actors_in_movie  \n",
       "0    Paul Goddard, Belinda McClory, Gloria Foster, ...  \n",
       "1    Robert Simper, Michael Butcher, Lawrence Woodw...  \n",
       "2    Gloria Foster, Hugo Weaving, Carrie-Anne Moss,...  \n",
       "3    Joe Pantoliano, Hugo Weaving, Carrie-Anne Moss...  \n",
       "4    Joe Pantoliano, Hugo Weaving, Carrie-Anne Moss...  \n",
       "..                                                 ...  \n",
       "851                                    Belinda McClory  \n",
       "852                                       Tamara Brown  \n",
       "853                                     Joe Pantoliano  \n",
       "854                                       Hugo Weaving  \n",
       "855                                 Laurence Fishburne  \n",
       "\n",
       "[856 rows x 3 columns]"
      ]
     },
     "execution_count": 34,
     "metadata": {},
     "output_type": "execute_result"
    }
   ],
   "source": [
    "cmd = \\\n",
    "    \"\"\"\n",
    "    SELECT movie_or_TV_name AS movie_name, \n",
    "        COUNT(DISTINCT actor) as number_of_actors, \n",
    "        REPLACE(GROUP_CONCAT(DISTINCT actor), \",\", \", \") as actors_in_movie\n",
    "    FROM act\n",
    "    GROUP BY movie_or_TV_name\n",
    "    ORDER BY number_of_actors DESC\n",
    "    \"\"\"\n",
    "\n",
    "rec = pd.read_sql_query(cmd, conn)\n",
    "rec"
   ]
  },
  {
   "cell_type": "code",
   "execution_count": 48,
   "id": "559b8760-d103-424c-8dcf-6aafd436f3cd",
   "metadata": {},
   "outputs": [
    {
     "data": {
      "text/html": [
       "<div>\n",
       "<style scoped>\n",
       "    .dataframe tbody tr th:only-of-type {\n",
       "        vertical-align: middle;\n",
       "    }\n",
       "\n",
       "    .dataframe tbody tr th {\n",
       "        vertical-align: top;\n",
       "    }\n",
       "\n",
       "    .dataframe thead th {\n",
       "        text-align: right;\n",
       "    }\n",
       "</style>\n",
       "<table border=\"1\" class=\"dataframe\">\n",
       "  <thead>\n",
       "    <tr style=\"text-align: right;\">\n",
       "      <th></th>\n",
       "      <th>movie_name</th>\n",
       "      <th>number_of_actors</th>\n",
       "    </tr>\n",
       "  </thead>\n",
       "  <tbody>\n",
       "    <tr>\n",
       "      <th>0</th>\n",
       "      <td>The Matrix</td>\n",
       "      <td>32</td>\n",
       "    </tr>\n",
       "    <tr>\n",
       "      <th>1</th>\n",
       "      <td>Police Rescue</td>\n",
       "      <td>7</td>\n",
       "    </tr>\n",
       "    <tr>\n",
       "      <th>2</th>\n",
       "      <td>The Matrix Reloaded</td>\n",
       "      <td>6</td>\n",
       "    </tr>\n",
       "    <tr>\n",
       "      <th>3</th>\n",
       "      <td>The View</td>\n",
       "      <td>5</td>\n",
       "    </tr>\n",
       "    <tr>\n",
       "      <th>4</th>\n",
       "      <td>Making 'The Matrix'</td>\n",
       "      <td>5</td>\n",
       "    </tr>\n",
       "    <tr>\n",
       "      <th>5</th>\n",
       "      <td>The Matrix Revolutions Revisited</td>\n",
       "      <td>4</td>\n",
       "    </tr>\n",
       "    <tr>\n",
       "      <th>6</th>\n",
       "      <td>The Matrix Revolutions</td>\n",
       "      <td>4</td>\n",
       "    </tr>\n",
       "    <tr>\n",
       "      <th>7</th>\n",
       "      <td>The Matrix Revisited</td>\n",
       "      <td>4</td>\n",
       "    </tr>\n",
       "    <tr>\n",
       "      <th>8</th>\n",
       "      <td>The Matrix Reloaded: Pre-Load</td>\n",
       "      <td>4</td>\n",
       "    </tr>\n",
       "    <tr>\n",
       "      <th>9</th>\n",
       "      <td>The Matrix Reloaded Revisited</td>\n",
       "      <td>4</td>\n",
       "    </tr>\n",
       "  </tbody>\n",
       "</table>\n",
       "</div>"
      ],
      "text/plain": [
       "                         movie_name  number_of_actors\n",
       "0                        The Matrix                32\n",
       "1                     Police Rescue                 7\n",
       "2               The Matrix Reloaded                 6\n",
       "3                          The View                 5\n",
       "4               Making 'The Matrix'                 5\n",
       "5  The Matrix Revolutions Revisited                 4\n",
       "6            The Matrix Revolutions                 4\n",
       "7              The Matrix Revisited                 4\n",
       "8     The Matrix Reloaded: Pre-Load                 4\n",
       "9     The Matrix Reloaded Revisited                 4"
      ]
     },
     "execution_count": 48,
     "metadata": {},
     "output_type": "execute_result"
    }
   ],
   "source": [
    "rec1 = rec.head(10)\n",
    "rec1 = rec1.drop(\"actors_in_movie\", axis=1)\n",
    "rec1"
   ]
  },
  {
   "cell_type": "code",
   "execution_count": 53,
   "id": "0e061b4e-a1ca-44c2-ac75-9887226c8ab6",
   "metadata": {},
   "outputs": [
    {
     "data": {
      "image/png": "[encoded data removed]",
      "text/plain": [
       "<Figure size 640x480 with 1 Axes>"
      ]
     },
     "metadata": {},
     "output_type": "display_data"
    }
   ],
   "source": [
    "sns.barplot(data=rec1, x=\"movie_name\", y=\"number_of_actors\")\n",
    "plt.xticks(rotation=90)\n",
    "plt.show()"
   ]
  }
 ],
 "metadata": {
  "kernelspec": {
   "display_name": "Python 3 (ipykernel)",
   "language": "python",
   "name": "python3"
  },
  "language_info": {
   "codemirror_mode": {
    "name": "ipython",
    "version": 3
   },
   "file_extension": ".py",
   "mimetype": "text/x-python",
   "name": "python",
   "nbconvert_exporter": "python",
   "pygments_lexer": "ipython3",
   "version": "3.9.13"
  }
 },
 "nbformat": 4,
 "nbformat_minor": 5
}
